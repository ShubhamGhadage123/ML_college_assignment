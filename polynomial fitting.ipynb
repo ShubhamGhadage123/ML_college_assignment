{
 "cells": [
  {
   "cell_type": "code",
   "execution_count": 1,
   "id": "3a8a4e89",
   "metadata": {},
   "outputs": [],
   "source": [
    "\n",
    "import pandas as pd\n",
    "import matplotlib.pyplot as plt\n",
    "import numpy as np\n",
    "\n"
   ]
  },
  {
   "cell_type": "code",
   "execution_count": 2,
   "id": "039d3ca3",
   "metadata": {},
   "outputs": [
    {
     "data": {
      "text/html": [
       "<div>\n",
       "<style scoped>\n",
       "    .dataframe tbody tr th:only-of-type {\n",
       "        vertical-align: middle;\n",
       "    }\n",
       "\n",
       "    .dataframe tbody tr th {\n",
       "        vertical-align: top;\n",
       "    }\n",
       "\n",
       "    .dataframe thead th {\n",
       "        text-align: right;\n",
       "    }\n",
       "</style>\n",
       "<table border=\"1\" class=\"dataframe\">\n",
       "  <thead>\n",
       "    <tr style=\"text-align: right;\">\n",
       "      <th></th>\n",
       "      <th>YearsExperience</th>\n",
       "      <th>Salary</th>\n",
       "    </tr>\n",
       "  </thead>\n",
       "  <tbody>\n",
       "    <tr>\n",
       "      <th>0</th>\n",
       "      <td>1.1</td>\n",
       "      <td>39343.0</td>\n",
       "    </tr>\n",
       "    <tr>\n",
       "      <th>1</th>\n",
       "      <td>1.3</td>\n",
       "      <td>46205.0</td>\n",
       "    </tr>\n",
       "    <tr>\n",
       "      <th>2</th>\n",
       "      <td>1.5</td>\n",
       "      <td>37731.0</td>\n",
       "    </tr>\n",
       "    <tr>\n",
       "      <th>3</th>\n",
       "      <td>2.0</td>\n",
       "      <td>43525.0</td>\n",
       "    </tr>\n",
       "    <tr>\n",
       "      <th>4</th>\n",
       "      <td>2.2</td>\n",
       "      <td>39891.0</td>\n",
       "    </tr>\n",
       "  </tbody>\n",
       "</table>\n",
       "</div>"
      ],
      "text/plain": [
       "   YearsExperience   Salary\n",
       "0              1.1  39343.0\n",
       "1              1.3  46205.0\n",
       "2              1.5  37731.0\n",
       "3              2.0  43525.0\n",
       "4              2.2  39891.0"
      ]
     },
     "execution_count": 2,
     "metadata": {},
     "output_type": "execute_result"
    }
   ],
   "source": [
    "data = pd.read_csv(r\"C:\\Users\\omkar\\Downloads\\College ML\\Salary_Data.csv\")\n",
    "data.head()\n"
   ]
  },
  {
   "cell_type": "code",
   "execution_count": 3,
   "id": "2d6df85f",
   "metadata": {},
   "outputs": [
    {
     "data": {
      "text/plain": [
       "<matplotlib.collections.PathCollection at 0x1eea4fa64c0>"
      ]
     },
     "execution_count": 3,
     "metadata": {},
     "output_type": "execute_result"
    },
    {
     "data": {
      "image/png": "[encoded data removed]",
      "text/plain": [
       "<Figure size 432x288 with 1 Axes>"
      ]
     },
     "metadata": {
      "needs_background": "light"
     },
     "output_type": "display_data"
    }
   ],
   "source": [
    "\n",
    "x = data['YearsExperience']\n",
    "y = data['Salary']\n",
    "plt.scatter(x,y)\n",
    "\n"
   ]
  },
  {
   "cell_type": "code",
   "execution_count": 4,
   "id": "af164507",
   "metadata": {},
   "outputs": [
    {
     "name": "stdout",
     "output_type": "stream",
     "text": [
      "       2\n",
      "16.39 x + 9259 x + 2.621e+04\n"
     ]
    }
   ],
   "source": [
    "p = np.polyfit(x,y,2)\n",
    "f = np.poly1d(p)\n",
    "print (f)\n",
    "\n"
   ]
  },
  {
   "cell_type": "code",
   "execution_count": 5,
   "id": "4823842d",
   "metadata": {},
   "outputs": [
    {
     "data": {
      "text/plain": [
       "[<matplotlib.lines.Line2D at 0x1eea7183be0>]"
      ]
     },
     "execution_count": 5,
     "metadata": {},
     "output_type": "execute_result"
    },
    {
     "data": {
      "image/png": "[encoded data removed]",
      "text/plain": [
       "<Figure size 432x288 with 1 Axes>"
      ]
     },
     "metadata": {
      "needs_background": "light"
     },
     "output_type": "display_data"
    }
   ],
   "source": [
    "x_new = np.arange(min(x),max(x))\n",
    "y_model = f(x_new)\n",
    "plt.scatter(x,y)\n",
    "plt.plot(x_new,y_model,'red')\n"
   ]
  },
  {
   "cell_type": "code",
   "execution_count": 6,
   "id": "115539fe",
   "metadata": {},
   "outputs": [
    {
     "data": {
      "text/html": [
       "<div>\n",
       "<style scoped>\n",
       "    .dataframe tbody tr th:only-of-type {\n",
       "        vertical-align: middle;\n",
       "    }\n",
       "\n",
       "    .dataframe tbody tr th {\n",
       "        vertical-align: top;\n",
       "    }\n",
       "\n",
       "    .dataframe thead th {\n",
       "        text-align: right;\n",
       "    }\n",
       "</style>\n",
       "<table border=\"1\" class=\"dataframe\">\n",
       "  <thead>\n",
       "    <tr style=\"text-align: right;\">\n",
       "      <th></th>\n",
       "      <th>YearsExperience</th>\n",
       "      <th>Salary</th>\n",
       "    </tr>\n",
       "  </thead>\n",
       "  <tbody>\n",
       "    <tr>\n",
       "      <th>0</th>\n",
       "      <td>1.1</td>\n",
       "      <td>39343.0</td>\n",
       "    </tr>\n",
       "    <tr>\n",
       "      <th>1</th>\n",
       "      <td>1.3</td>\n",
       "      <td>46205.0</td>\n",
       "    </tr>\n",
       "    <tr>\n",
       "      <th>2</th>\n",
       "      <td>1.5</td>\n",
       "      <td>37731.0</td>\n",
       "    </tr>\n",
       "    <tr>\n",
       "      <th>3</th>\n",
       "      <td>2.0</td>\n",
       "      <td>43525.0</td>\n",
       "    </tr>\n",
       "    <tr>\n",
       "      <th>4</th>\n",
       "      <td>2.2</td>\n",
       "      <td>39891.0</td>\n",
       "    </tr>\n",
       "  </tbody>\n",
       "</table>\n",
       "</div>"
      ],
      "text/plain": [
       "   YearsExperience   Salary\n",
       "0              1.1  39343.0\n",
       "1              1.3  46205.0\n",
       "2              1.5  37731.0\n",
       "3              2.0  43525.0\n",
       "4              2.2  39891.0"
      ]
     },
     "execution_count": 6,
     "metadata": {},
     "output_type": "execute_result"
    }
   ],
   "source": [
    "\n",
    "#Polynomial regression using matrix manipulation\n",
    "data = pd.read_csv(r\"C:\\Users\\omkar\\Downloads\\College ML\\Salary_Data.csv\")\n",
    "data.head()\n"
   ]
  },
  {
   "cell_type": "code",
   "execution_count": 7,
   "id": "e3e6e691",
   "metadata": {},
   "outputs": [],
   "source": [
    "x = data['YearsExperience']\n",
    "y = data['Salary']\n",
    "n = 2\n",
    "A = np.zeros((n+1,n+1))\n",
    "b = np.zeros((n+1,1))\n",
    "\n"
   ]
  },
  {
   "cell_type": "code",
   "execution_count": 8,
   "id": "6e28bf06",
   "metadata": {},
   "outputs": [
    {
     "name": "stdout",
     "output_type": "stream",
     "text": [
      "row 0\n",
      "row 1\n",
      "row 2\n",
      "column 0\n",
      "column 1\n",
      "column 2\n",
      "element sum(x**(2, 2)\n",
      "b element sum(x**2,y)\n",
      "A [[    0.        0.        0.   ]\n",
      " [    0.        0.        0.   ]\n",
      " [    0.        0.    72017.621]]\n",
      "b [[0.00000000e+00]\n",
      " [0.00000000e+00]\n",
      " [1.07818645e+08]]\n",
      "c [[1497.11478028]\n",
      " [   0.        ]\n",
      " [   0.        ]]\n",
      "c after ravel [1497.11478028    0.            0.        ]\n",
      "      2\n",
      "1497 x\n"
     ]
    }
   ],
   "source": [
    "for i in range (n+1):\n",
    "    print('row',i)\n",
    "for j in range (n+1):\n",
    "    print('column',j)\n",
    "print('element', f'sum(x**{i,j}')\n",
    "A[i,j] = sum(x**(i+j))\n",
    "print('b element', f'sum(x**{i},y)')\n",
    "b[i] = sum (x**(i)*y)\n",
    "print('A',A)\n",
    "print('b',b)\n",
    "c = np.dot(np.linalg.pinv(A),b)\n",
    "c = np.flip (c)\n",
    "print('c',c)\n",
    "c = c.ravel()\n",
    "print('c after ravel',c)\n",
    "f = np.poly1d(c)\n",
    "print(f)\n",
    "  "
   ]
  },
  {
   "cell_type": "code",
   "execution_count": 9,
   "id": "e5abd520",
   "metadata": {},
   "outputs": [],
   "source": [
    "  \n",
    "\n",
    "from sklearn.preprocessing import PolynomialFeatures\n",
    "poly = PolynomialFeatures(degree=2, include_bias=False)\n",
    "poly\n",
    "poly_features = poly.fit_transform(x.values.reshape(-1, 1))\n",
    "\n"
   ]
  },
  {
   "cell_type": "code",
   "execution_count": 10,
   "id": "21b09548",
   "metadata": {},
   "outputs": [
    {
     "data": {
      "image/png": "[encoded data removed]",
      "text/plain": [
       "<Figure size 432x288 with 1 Axes>"
      ]
     },
     "metadata": {
      "needs_background": "light"
     },
     "output_type": "display_data"
    },
    {
     "name": "stdout",
     "output_type": "stream",
     "text": [
      "           29             28             27            26\n",
      "3.642e+04 x  + 3.828e+04 x  + 4.014e+04 x  + 4.48e+04 x \n",
      "              25            24             23             22\n",
      " + 4.666e+04 x  + 5.32e+04 x  + 5.414e+04 x  + 5.601e+04 x \n",
      "              21            20             19             18\n",
      " + 5.601e+04 x  + 6.07e+04 x  + 6.258e+04 x  + 6.351e+04 x \n",
      "              17             16             15             14\n",
      " + 6.351e+04 x  + 6.445e+04 x  + 6.821e+04 x  + 7.198e+04 x \n",
      "              13             12             11             10\n",
      " + 7.386e+04 x  + 7.575e+04 x  + 8.142e+04 x  + 8.236e+04 x \n",
      "              9             8             7             6            5\n",
      " + 8.994e+04 x + 9.278e+04 x + 1.004e+05 x + 1.032e+05 x + 1.08e+05 x\n",
      "              4             3             2\n",
      " + 1.109e+05 x + 1.157e+05 x + 1.166e+05 x + 1.233e+05 x + 1.252e+05\n"
     ]
    }
   ],
   "source": [
    "#Polynomial regression from sklearn\n",
    "from sklearn.linear_model import LinearRegression\n",
    "poly_reg_model = LinearRegression()\n",
    "poly_reg_model.fit(poly_features, y)\n",
    "y_predicted = poly_reg_model.predict(poly_features)\n",
    "plt.scatter(x, y)\n",
    "plt.plot(x, y_predicted, c=\"red\")\n",
    "plt.show()\n",
    "n = np.poly1d(y_predicted)\n",
    "print(n)"
   ]
  }
 ],
 "metadata": {
  "kernelspec": {
   "display_name": "Python 3",
   "language": "python",
   "name": "python3"
  },
  "language_info": {
   "codemirror_mode": {
    "name": "ipython",
    "version": 3
   },
   "file_extension": ".py",
   "mimetype": "text/x-python",
   "name": "python",
   "nbconvert_exporter": "python",
   "pygments_lexer": "ipython3",
   "version": "3.8.8"
  }
 },
 "nbformat": 4,
 "nbformat_minor": 5
}
